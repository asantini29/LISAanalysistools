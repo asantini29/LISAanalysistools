{
 "cells": [
  {
   "cell_type": "code",
   "execution_count": 1,
   "metadata": {},
   "outputs": [
    {
     "name": "stderr",
     "output_type": "stream",
     "text": [
      "/var/folders/j0/bh276m5s531565_7zdy_t5m40000gp/T/ipykernel_31349/1702327502.py:3: DeprecationWarning: \n",
      "Pyarrow will become a required dependency of pandas in the next major release of pandas (pandas 3.0),\n",
      "(to allow more performant data types, such as the Arrow string type, and better interoperability with other libraries)\n",
      "but was not found to be installed on your system.\n",
      "If this would cause problems for you,\n",
      "please provide us feedback at https://github.com/pandas-dev/pandas/issues/54466\n",
      "        \n",
      "  import pandas as pd\n"
     ]
    },
    {
     "name": "stdout",
     "output_type": "stream",
     "text": [
      "No CuPy\n",
      "No CuPy or GPU PhenomHM module.\n",
      "No CuPy or GPU response available.\n",
      "No CuPy or GPU interpolation available.\n"
     ]
    }
   ],
   "source": [
    "from typing import Any\n",
    "import numpy as np\n",
    "import pandas as pd\n",
    "from lisatools.diagnostic import snr as snr_func\n",
    "from lisatools.sensitivity import get_sensitivity\n",
    "from abc import ABC\n",
    "from typing import Union, Tuple\n",
    "import matplotlib.pyplot as plt\n",
    "%matplotlib inline\n",
    "\n",
    "from wrappers import *"
   ]
  },
  {
   "cell_type": "markdown",
   "metadata": {},
   "source": [
    "# lisatools Tutorial"
   ]
  },
  {
   "cell_type": "markdown",
   "metadata": {},
   "source": [
    "## Diagnostics"
   ]
  },
  {
   "cell_type": "markdown",
   "metadata": {},
   "source": [
    "Setup all snr calculators"
   ]
  },
  {
   "cell_type": "code",
   "execution_count": 2,
   "metadata": {},
   "outputs": [
    {
     "name": "stderr",
     "output_type": "stream",
     "text": [
      "/Users/mlkatz1/miniconda3/envs/lisa_snr_env/lib/python3.12/site-packages/few/utils/utility.py:793: UserWarning: The file FluxNewMinusPNScaled_fixed_y_order.dat did not open sucessfully. It will now be downloaded to the proper location.\n",
      "  warnings.warn(\n",
      "--2024-01-25 15:39:11--  https://zenodo.org/record/3981654/files/FluxNewMinusPNScaled_fixed_y_order.dat\n",
      "Resolving zenodo.org (zenodo.org)... 188.184.98.238, 188.185.79.172, 188.184.103.159, ...\n",
      "Connecting to zenodo.org (zenodo.org)|188.184.98.238|:443... connected.\n",
      "HTTP request sent, awaiting response... 301 MOVED PERMANENTLY\n",
      "Location: /records/3981654/files/FluxNewMinusPNScaled_fixed_y_order.dat [following]\n",
      "--2024-01-25 15:39:12--  https://zenodo.org/records/3981654/files/FluxNewMinusPNScaled_fixed_y_order.dat\n",
      "Reusing existing connection to zenodo.org:443.\n",
      "HTTP request sent, awaiting response... 200 OK\n",
      "Length: 61494 (60K) [application/octet-stream]\n",
      "Saving to: ‘FluxNewMinusPNScaled_fixed_y_order.dat’\n",
      "\n",
      "     0K .......... .......... .......... .......... .......... 83%  144K 0s\n",
      "    50K ..........                                            100% 41.8M=0.3s\n",
      "\n",
      "2024-01-25 15:39:12 (172 KB/s) - ‘FluxNewMinusPNScaled_fixed_y_order.dat’ saved [61494/61494]\n",
      "\n",
      "/Users/mlkatz1/miniconda3/envs/lisa_snr_env/lib/python3.12/site-packages/few/utils/utility.py:793: UserWarning: The file SchwarzschildEccentricInput.hdf5 did not open sucessfully. It will now be downloaded to the proper location.\n",
      "  warnings.warn(\n",
      "--2024-01-25 15:39:13--  https://zenodo.org/record/3981654/files/SchwarzschildEccentricInput.hdf5\n",
      "Resolving zenodo.org (zenodo.org)... 188.185.79.172, 188.184.103.159, 188.184.98.238, ...\n",
      "Connecting to zenodo.org (zenodo.org)|188.185.79.172|:443... connected.\n",
      "HTTP request sent, awaiting response... 301 MOVED PERMANENTLY\n",
      "Location: /records/3981654/files/SchwarzschildEccentricInput.hdf5 [following]\n",
      "--2024-01-25 15:39:13--  https://zenodo.org/records/3981654/files/SchwarzschildEccentricInput.hdf5\n",
      "Reusing existing connection to zenodo.org:443.\n",
      "HTTP request sent, awaiting response... 200 OK\n",
      "Length: 12885136 (12M) [application/octet-stream]\n",
      "Saving to: ‘SchwarzschildEccentricInput.hdf5’\n",
      "\n",
      "     0K .......... .......... .......... .......... ..........  0%  143K 88s\n",
      "    50K .......... .......... .......... .......... ..........  0%  280K 66s\n",
      "   100K .......... .......... .......... .......... ..........  1% 10.4M 44s\n",
      "   150K .......... .......... .......... .......... ..........  1%  306K 43s\n",
      "   200K .......... .......... .......... .......... ..........  1% 2.94M 35s\n",
      "   250K .......... .......... .......... .......... ..........  2% 54.7M 29s\n",
      "   300K .......... .......... .......... .......... ..........  2% 37.5M 25s\n",
      "   350K .......... .......... .......... .......... ..........  3%  311K 27s\n",
      "   400K .......... .......... .......... .......... ..........  3% 54.0M 24s\n",
      "   450K .......... .......... .......... .......... ..........  3% 4.23M 21s\n",
      "   500K .......... .......... .......... .......... ..........  4% 9.48M 20s\n",
      "   550K .......... .......... .......... .......... ..........  4% 18.5M 18s\n",
      "   600K .......... .......... .......... .......... ..........  5% 88.1M 16s\n",
      "   650K .......... .......... .......... .......... ..........  5% 98.4M 15s\n",
      "   700K .......... .......... .......... .......... ..........  5% 80.0M 14s\n",
      "   750K .......... .......... .......... .......... ..........  6%  147K 18s\n",
      "   800K .......... .......... .......... .......... ..........  6% 65.5M 17s\n",
      "   850K .......... .......... .......... .......... ..........  7%  120M 16s\n",
      "   900K .......... .......... .......... .......... ..........  7%  164M 15s\n",
      "   950K .......... .......... .......... .......... ..........  7%  159M 14s\n",
      "  1000K .......... .......... .......... .......... ..........  8%  160M 14s\n",
      "  1050K .......... .......... .......... .......... ..........  8%  200M 13s\n",
      "  1100K .......... .......... .......... .......... ..........  9%  186M 12s\n",
      "  1150K .......... .......... .......... .......... ..........  9%  170M 12s\n",
      "  1200K .......... .......... .......... .......... ..........  9%  119M 11s\n",
      "  1250K .......... .......... .......... .......... .......... 10%  203M 11s\n",
      "  1300K .......... .......... .......... .......... .......... 10%  930K 11s\n",
      "  1350K .......... .......... .......... .......... .......... 11% 22.4M 10s\n",
      "  1400K .......... .......... .......... .......... .......... 11%  159M 10s\n",
      "  1450K .......... .......... .......... .......... .......... 11%  422K 10s\n",
      "  1500K .......... .......... .......... .......... .......... 12% 90.4M 10s\n",
      "  1550K .......... .......... .......... .......... .......... 12%  163M 10s\n",
      "  1600K .......... .......... .......... .......... .......... 13%  152M 9s\n",
      "  1650K .......... .......... .......... .......... .......... 13%  144M 9s\n",
      "  1700K .......... .......... .......... .......... .......... 13%  150M 9s\n",
      "  1750K .......... .......... .......... .......... .......... 14%  165M 9s\n",
      "  1800K .......... .......... .......... .......... .......... 14% 98.2M 8s\n",
      "  1850K .......... .......... .......... .......... .......... 15%  214M 8s\n",
      "  1900K .......... .......... .......... .......... .......... 15%  190M 8s\n",
      "  1950K .......... .......... .......... .......... .......... 15% 31.8M 8s\n",
      "  2000K .......... .......... .......... .......... .......... 16% 3.89M 7s\n",
      "  2050K .......... .......... .......... .......... .......... 16% 80.8M 7s\n",
      "  2100K .......... .......... .......... .......... .......... 17% 69.1M 7s\n",
      "  2150K .......... .......... .......... .......... .......... 17% 13.9M 7s\n",
      "  2200K .......... .......... .......... .......... .......... 17% 16.8M 7s\n",
      "  2250K .......... .......... .......... .......... .......... 18% 54.1M 6s\n",
      "  2300K .......... .......... .......... .......... .......... 18% 1.39M 6s\n",
      "  2350K .......... .......... .......... .......... .......... 19%  130M 6s\n",
      "  2400K .......... .......... .......... .......... .......... 19% 66.5M 6s\n",
      "  2450K .......... .......... .......... .......... .......... 19%  444K 6s\n",
      "  2500K .......... .......... .......... .......... .......... 20% 23.8M 6s\n",
      "  2550K .......... .......... .......... .......... .......... 20% 2.93M 6s\n",
      "  2600K .......... .......... .......... .......... .......... 21% 27.4M 6s\n",
      "  2650K .......... .......... .......... .......... .......... 21% 66.2M 6s\n",
      "  2700K .......... .......... .......... .......... .......... 21% 17.8M 6s\n",
      "  2750K .......... .......... .......... .......... .......... 22% 34.7M 6s\n",
      "  2800K .......... .......... .......... .......... .......... 22% 17.7M 6s\n",
      "  2850K .......... .......... .......... .......... .......... 23% 1.38M 6s\n",
      "  2900K .......... .......... .......... .......... .......... 23% 17.2M 5s\n",
      "  2950K .......... .......... .......... .......... .......... 23% 46.4M 5s\n",
      "  3000K .......... .......... .......... .......... .......... 24%  481K 6s\n",
      "  3050K .......... .......... .......... .......... .......... 24% 12.1M 5s\n",
      "  3100K .......... .......... .......... .......... .......... 25% 2.24M 5s\n",
      "  3150K .......... .......... .......... .......... .......... 25% 23.6M 5s\n",
      "  3200K .......... .......... .......... .......... .......... 25% 67.9M 5s\n",
      "  3250K .......... .......... .......... .......... .......... 26% 53.2M 5s\n",
      "  3300K .......... .......... .......... .......... .......... 26% 16.8M 5s\n",
      "  3350K .......... .......... .......... .......... .......... 27% 21.6M 5s\n",
      "  3400K .......... .......... .......... .......... .......... 27% 19.0M 5s\n",
      "  3450K .......... .......... .......... .......... .......... 27% 1.49M 5s\n",
      "  3500K .......... .......... .......... .......... .......... 28% 18.1M 5s\n",
      "  3550K .......... .......... .......... .......... .......... 28% 22.6M 5s\n",
      "  3600K .......... .......... .......... .......... .......... 29%  513K 5s\n",
      "  3650K .......... .......... .......... .......... .......... 29% 6.52M 5s\n",
      "  3700K .......... .......... .......... .......... .......... 29% 2.09M 5s\n",
      "  3750K .......... .......... .......... .......... .......... 30% 94.4M 5s\n",
      "  3800K .......... .......... .......... .......... .......... 30% 23.6M 4s\n",
      "  3850K .......... .......... .......... .......... .......... 30%  122M 4s\n",
      "  3900K .......... .......... .......... .......... .......... 31% 53.7M 4s\n",
      "  3950K .......... .......... .......... .......... .......... 31%  195K 5s\n",
      "  4000K .......... .......... .......... .......... .......... 32%  117M 5s\n",
      "  4050K .......... .......... .......... .......... .......... 32%  123M 5s\n",
      "  4100K .......... .......... .......... .......... .......... 32%  180M 5s\n",
      "  4150K .......... .......... .......... .......... .......... 33%  198M 4s\n",
      "  4200K .......... .......... .......... .......... .......... 33%  189M 4s\n",
      "  4250K .......... .......... .......... .......... .......... 34%  136M 4s\n",
      "  4300K .......... .......... .......... .......... .......... 34%  181M 4s\n",
      "  4350K .......... .......... .......... .......... .......... 34%  198M 4s\n",
      "  4400K .......... .......... .......... .......... .......... 35%  155M 4s\n",
      "  4450K .......... .......... .......... .......... .......... 35%  153M 4s\n",
      "  4500K .......... .......... .......... .......... .......... 36%  273K 4s\n",
      "  4550K .......... .......... .......... .......... .......... 36% 15.7M 4s\n",
      "  4600K .......... .......... .......... .......... .......... 36%  238M 4s\n",
      "  4650K .......... .......... .......... .......... .......... 37%  213M 4s\n",
      "  4700K .......... .......... .......... .......... .......... 37%  234M 4s\n",
      "  4750K .......... .......... .......... .......... .......... 38%  239M 4s\n",
      "  4800K .......... .......... .......... .......... .......... 38%  196M 4s\n",
      "  4850K .......... .......... .......... .......... .......... 38%  241M 4s\n",
      "  4900K .......... .......... .......... .......... .......... 39%  229M 4s\n",
      "  4950K .......... .......... .......... .......... .......... 39%  236M 4s\n",
      "  5000K .......... .......... .......... .......... .......... 40%  215M 4s\n",
      "  5050K .......... .......... .......... .......... .......... 40%  234M 4s\n",
      "  5100K .......... .......... .......... .......... .......... 40%  212M 3s\n",
      "  5150K .......... .......... .......... .......... .......... 41%  218M 3s\n",
      "  5200K .......... .......... .......... .......... .......... 41% 1.06M 3s\n",
      "  5250K .......... .......... .......... .......... .......... 42% 1.31M 3s\n",
      "  5300K .......... .......... .......... .......... .......... 42% 32.8M 3s\n",
      "  5350K .......... .......... .......... .......... .......... 42% 35.6M 3s\n",
      "  5400K .......... .......... .......... .......... .......... 43% 4.58M 3s\n",
      "  5450K .......... .......... .......... .......... .......... 43% 39.0M 3s\n",
      "  5500K .......... .......... .......... .......... .......... 44% 1.40M 3s\n",
      "  5550K .......... .......... .......... .......... .......... 44% 20.0M 3s\n",
      "  5600K .......... .......... .......... .......... .......... 44%  732K 3s\n",
      "  5650K .......... .......... .......... .......... .......... 45% 2.68M 3s\n",
      "  5700K .......... .......... .......... .......... .......... 45% 1.25M 3s\n",
      "  5750K .......... .......... .......... .......... .......... 46% 20.3M 3s\n",
      "  5800K .......... .......... .......... .......... .......... 46% 19.8M 3s\n",
      "  5850K .......... .......... .......... .......... .......... 46% 6.81M 3s\n",
      "  5900K .......... .......... .......... .......... .......... 47% 19.5M 3s\n",
      "  5950K .......... .......... .......... .......... .......... 47% 1.41M 3s\n",
      "  6000K .......... .......... .......... .......... .......... 48% 1.26M 3s\n",
      "  6050K .......... .......... .......... .......... .......... 48% 1.02M 3s\n",
      "  6100K .......... .......... .......... .......... .......... 48% 13.5M 3s\n",
      "  6150K .......... .......... .......... .......... .......... 49% 1.09M 3s\n",
      "  6200K .......... .......... .......... .......... .......... 49% 15.6M 3s\n",
      "  6250K .......... .......... .......... .......... .......... 50% 63.6M 3s\n",
      "  6300K .......... .......... .......... .......... .......... 50% 9.61M 3s\n",
      "  6350K .......... .......... .......... .......... .......... 50% 4.57M 3s\n",
      "  6400K .......... .......... .......... .......... .......... 51% 2.13M 3s\n",
      "  6450K .......... .......... .......... .......... .......... 51% 1.32M 3s\n",
      "  6500K .......... .......... .......... .......... .......... 52% 1.02M 3s\n",
      "  6550K .......... .......... .......... .......... .......... 52% 24.0M 3s\n",
      "  6600K .......... .......... .......... .......... .......... 52% 1.29M 3s\n",
      "  6650K .......... .......... .......... .......... .......... 53% 3.75M 3s\n",
      "  6700K .......... .......... .......... .......... .......... 53% 32.0M 3s\n",
      "  6750K .......... .......... .......... .......... .......... 54% 13.4M 3s\n",
      "  6800K .......... .......... .......... .......... .......... 54% 7.92M 3s\n",
      "  6850K .......... .......... .......... .......... .......... 54% 1.32M 3s\n",
      "  6900K .......... .......... .......... .......... .......... 55% 2.19M 3s\n",
      "  6950K .......... .......... .......... .......... .......... 55% 1.52M 3s\n",
      "  7000K .......... .......... .......... .......... .......... 56% 1.91M 2s\n",
      "  7050K .......... .......... .......... .......... .......... 56% 1.35M 2s\n",
      "  7100K .......... .......... .......... .......... .......... 56% 3.99M 2s\n",
      "  7150K .......... .......... .......... .......... .......... 57% 58.5M 2s\n",
      "  7200K .......... .......... .......... .......... .......... 57% 6.18M 2s\n",
      "  7250K .......... .......... .......... .......... .......... 58%  178M 2s\n",
      "  7300K .......... .......... .......... .......... .......... 58% 1.17M 2s\n",
      "  7350K .......... .......... .......... .......... .......... 58% 37.2M 2s\n",
      "  7400K .......... .......... .......... .......... .......... 59% 2.47M 2s\n",
      "  7450K .......... .......... .......... .......... .......... 59% 1.02M 2s\n",
      "  7500K .......... .......... .......... .......... .......... 60% 1.19M 2s\n",
      "  7550K .......... .......... .......... .......... .......... 60% 3.55M 2s\n",
      "  7600K .......... .......... .......... .......... .......... 60% 26.8M 2s\n",
      "  7650K .......... .......... .......... .......... .......... 61% 52.6M 2s\n",
      "  7700K .......... .......... .......... .......... .......... 61% 5.82M 2s\n",
      "  7750K .......... .......... .......... .......... .......... 61% 1.63M 2s\n",
      "  7800K .......... .......... .......... .......... .......... 62% 3.62M 2s\n",
      "  7850K .......... .......... .......... .......... .......... 62% 3.19M 2s\n",
      "  7900K .......... .......... .......... .......... .......... 63%  979K 2s\n",
      "  7950K .......... .......... .......... .......... .......... 63% 3.25M 2s\n",
      "  8000K .......... .......... .......... .......... .......... 63% 1.80M 2s\n",
      "  8050K .......... .......... .......... .......... .......... 64% 3.97M 2s\n",
      "  8100K .......... .......... .......... .......... .......... 64% 10.1M 2s\n",
      "  8150K .......... .......... .......... .......... .......... 65% 10.6M 2s\n",
      "  8200K .......... .......... .......... .......... .......... 65% 8.10M 2s\n",
      "  8250K .......... .......... .......... .......... .......... 65% 1.32M 2s\n",
      "  8300K .......... .......... .......... .......... .......... 66% 2.89M 2s\n",
      "  8350K .......... .......... .......... .......... .......... 66% 1.74M 2s\n",
      "  8400K .......... .......... .......... .......... .......... 67% 1.44M 2s\n",
      "  8450K .......... .......... .......... .......... .......... 67% 1.67M 2s\n",
      "  8500K .......... .......... .......... .......... .......... 67% 3.84M 2s\n",
      "  8550K .......... .......... .......... .......... .......... 68% 25.4M 2s\n",
      "  8600K .......... .......... .......... .......... .......... 68% 12.1M 2s\n",
      "  8650K .......... .......... .......... .......... .......... 69% 6.74M 2s\n",
      "  8700K .......... .......... .......... .......... .......... 69% 1.41M 2s\n",
      "  8750K .......... .......... .......... .......... .......... 69% 6.67M 2s\n",
      "  8800K .......... .......... .......... .......... .......... 70% 2.86M 2s\n",
      "  8850K .......... .......... .......... .......... .......... 70% 1.16M 2s\n",
      "  8900K .......... .......... .......... .......... .......... 71% 1.82M 2s\n",
      "  8950K .......... .......... .......... .......... .......... 71% 2.35M 2s\n",
      "  9000K .......... .......... .......... .......... .......... 71% 3.08M 2s\n",
      "  9050K .......... .......... .......... .......... .......... 72% 7.59M 2s\n",
      "  9100K .......... .......... .......... .......... .......... 72% 9.93M 1s\n",
      "  9150K .......... .......... .......... .......... .......... 73% 46.3M 1s\n",
      "  9200K .......... .......... .......... .......... .......... 73% 1.23M 1s\n",
      "  9250K .......... .......... .......... .......... .......... 73% 19.1M 1s\n",
      "  9300K .......... .......... .......... .......... .......... 74% 2.24M 1s\n",
      "  9350K .......... .......... .......... .......... .......... 74% 1.16M 1s\n",
      "  9400K .......... .......... .......... .......... .......... 75% 1.25M 1s\n",
      "  9450K .......... .......... .......... .......... .......... 75% 6.05M 1s\n",
      "  9500K .......... .......... .......... .......... .......... 75% 3.62M 1s\n",
      "  9550K .......... .......... .......... .......... .......... 76% 8.97M 1s\n",
      "  9600K .......... .......... .......... .......... .......... 76% 11.7M 1s\n",
      "  9650K .......... .......... .......... .......... .......... 77% 9.72M 1s\n",
      "  9700K .......... .......... .......... .......... .......... 77% 1.37M 1s\n",
      "  9750K .......... .......... .......... .......... .......... 77% 4.86M 1s\n",
      "  9800K .......... .......... .......... .......... .......... 78% 2.44M 1s\n",
      "  9850K .......... .......... .......... .......... .......... 78% 1.32M 1s\n",
      "  9900K .......... .......... .......... .......... .......... 79% 1.51M 1s\n",
      "  9950K .......... .......... .......... .......... .......... 79% 3.72M 1s\n",
      " 10000K .......... .......... .......... .......... .......... 79% 2.43M 1s\n",
      " 10050K .......... .......... .......... .......... .......... 80% 9.43M 1s\n",
      " 10100K .......... .......... .......... .......... .......... 80% 98.8M 1s\n",
      " 10150K .......... .......... .......... .......... .......... 81% 4.26M 1s\n",
      " 10200K .......... .......... .......... .......... .......... 81% 1.44M 1s\n",
      " 10250K .......... .......... .......... .......... .......... 81% 3.64M 1s\n",
      " 10300K .......... .......... .......... .......... .......... 82% 1.68M 1s\n",
      " 10350K .......... .......... .......... .......... .......... 82% 2.17M 1s\n",
      " 10400K .......... .......... .......... .......... .......... 83% 1.67M 1s\n",
      " 10450K .......... .......... .......... .......... .......... 83% 5.96M 1s\n",
      " 10500K .......... .......... .......... .......... .......... 83% 2.20M 1s\n",
      " 10550K .......... .......... .......... .......... .......... 84% 11.3M 1s\n",
      " 10600K .......... .......... .......... .......... .......... 84% 22.5M 1s\n",
      " 10650K .......... .......... .......... .......... .......... 85%  118M 1s\n",
      " 10700K .......... .......... .......... .......... .......... 85% 1.21M 1s\n",
      " 10750K .......... .......... .......... .......... .......... 85% 3.46M 1s\n",
      " 10800K .......... .......... .......... .......... .......... 86% 9.47M 1s\n",
      " 10850K .......... .......... .......... .......... .......... 86% 1.01M 1s\n",
      " 10900K .......... .......... .......... .......... .......... 87% 1.37M 1s\n",
      " 10950K .......... .......... .......... .......... .......... 87% 2.30M 1s\n",
      " 11000K .......... .......... .......... .......... .......... 87% 58.3M 1s\n",
      " 11050K .......... .......... .......... .......... .......... 88% 4.86M 1s\n",
      " 11100K .......... .......... .......... .......... .......... 88% 47.7M 1s\n",
      " 11150K .......... .......... .......... .......... .......... 89%  139M 1s\n",
      " 11200K .......... .......... .......... .......... .......... 89% 1.45M 1s\n",
      " 11250K .......... .......... .......... .......... .......... 89% 3.70M 1s\n",
      " 11300K .......... .......... .......... .......... .......... 90% 1.02M 1s\n",
      " 11350K .......... .......... .......... .......... .......... 90% 2.61M 0s\n",
      " 11400K .......... .......... .......... .......... .......... 90% 2.66M 0s\n",
      " 11450K .......... .......... .......... .......... .......... 91% 2.12M 0s\n",
      " 11500K .......... .......... .......... .......... .......... 91% 4.49M 0s\n",
      " 11550K .......... .......... .......... .......... .......... 92% 8.23M 0s\n",
      " 11600K .......... .......... .......... .......... .......... 92% 6.66M 0s\n",
      " 11650K .......... .......... .......... .......... .......... 92% 15.8M 0s\n",
      " 11700K .......... .......... .......... .......... .......... 93% 1.48M 0s\n",
      " 11750K .......... .......... .......... .......... .......... 93% 2.94M 0s\n",
      " 11800K .......... .......... .......... .......... .......... 94% 8.15M 0s\n",
      " 11850K .......... .......... .......... .......... .......... 94% 1.00M 0s\n",
      " 11900K .......... .......... .......... .......... .......... 94% 3.15M 0s\n",
      " 11950K .......... .......... .......... .......... .......... 95% 2.70M 0s\n",
      " 12000K .......... .......... .......... .......... .......... 95% 2.76M 0s\n",
      " 12050K .......... .......... .......... .......... .......... 96% 4.42M 0s\n",
      " 12100K .......... .......... .......... .......... .......... 96% 7.05M 0s\n",
      " 12150K .......... .......... .......... .......... .......... 96% 25.5M 0s\n",
      " 12200K .......... .......... .......... .......... .......... 97% 1.51M 0s\n",
      " 12250K .......... .......... .......... .......... .......... 97% 7.21M 0s\n",
      " 12300K .......... .......... .......... .......... .......... 98% 3.73M 0s\n",
      " 12350K .......... .......... .......... .......... .......... 98%  976K 0s\n",
      " 12400K .......... .......... .......... .......... .......... 98% 5.14M 0s\n",
      " 12450K .......... .......... .......... .......... .......... 99% 2.10M 0s\n",
      " 12500K .......... .......... .......... .......... .......... 99% 2.40M 0s\n",
      " 12550K .......... .......... .......... ...                  100% 41.0M=5.2s\n",
      "\n",
      "2024-01-25 15:39:19 (2.38 MB/s) - ‘SchwarzschildEccentricInput.hdf5’ saved [12885136/12885136]\n",
      "\n",
      "/Users/mlkatz1/miniconda3/envs/lisa_snr_env/lib/python3.12/site-packages/few/utils/utility.py:793: UserWarning: The file AmplitudeVectorNorm.dat did not open sucessfully. It will now be downloaded to the proper location.\n",
      "  warnings.warn(\n",
      "--2024-01-25 15:39:19--  https://zenodo.org/record/3981654/files/AmplitudeVectorNorm.dat\n",
      "Resolving zenodo.org (zenodo.org)... 188.184.103.159, 188.184.98.238, 188.185.79.172, ...\n",
      "Connecting to zenodo.org (zenodo.org)|188.184.103.159|:443... connected.\n",
      "HTTP request sent, awaiting response... 301 MOVED PERMANENTLY\n",
      "Location: /records/3981654/files/AmplitudeVectorNorm.dat [following]\n",
      "--2024-01-25 15:39:20--  https://zenodo.org/records/3981654/files/AmplitudeVectorNorm.dat\n",
      "Reusing existing connection to zenodo.org:443.\n",
      "HTTP request sent, awaiting response... 200 OK\n",
      "Length: 49517 (48K) [application/octet-stream]\n",
      "Saving to: ‘AmplitudeVectorNorm.dat’\n",
      "\n",
      "     0K .......... .......... .......... .......... ........  100%  268K=0.2s\n",
      "\n",
      "2024-01-25 15:39:21 (268 KB/s) - ‘AmplitudeVectorNorm.dat’ saved [49517/49517]\n",
      "\n"
     ]
    }
   ],
   "source": [
    "# black hole generator\n",
    "bbh = BBHTemplateGen()\n",
    "\n",
    "# gb generator\n",
    "gb = GBTemplateGen()\n",
    "\n",
    "# emri generator\n",
    "emri = EMRITemplateGen(\n",
    "    \"FastSchwarzschildEccentricFlux\",  # will ignore spin and inclination (or change to Pn5AAKWaveform)\n",
    "    \"../../lisa-on-gpu/orbit_files/esa-trailing-orbits.h5\",\n",
    ")\n",
    "\n",
    "# psd info\n",
    "psd_kwargs = dict(\n",
    "    model=\"SciRDv1\",  # can be SciRDv1, MRDv1, sangria\n",
    "    includewd=1,  # Years of observation so far\n",
    ")\n",
    "fn = np.logspace(-6, -1, 1000)  # for plotting\n",
    "Sn = get_sensitivity(fn, sens_fn=\"noisepsd_AE\", **psd_kwargs)  # for plotting\n",
    "\n",
    "bbh_snr_calc = CalculateSNR(bbh, psd_kwargs)\n",
    "gb_snr_calc = CalculateSNR(gb, psd_kwargs)\n",
    "emri_snr_calc = CalculateSNR(emri, psd_kwargs)\n",
    "\n",
    "Tobs = YRSID_SI\n",
    "dt = 10.0\n",
    "Nobs = int(Tobs / dt)\n",
    "Tobs = Nobs * dt\n",
    "df = 1 / Tobs\n"
   ]
  },
  {
   "cell_type": "markdown",
   "metadata": {},
   "source": [
    "### MBHBs"
   ]
  },
  {
   "cell_type": "code",
   "execution_count": 3,
   "metadata": {},
   "outputs": [],
   "source": [
    "# in SSB\n",
    "\n",
    "f_ref = 0.0  # let phenom codes set f_ref -> fmax = max(f^2A(f))\n",
    "phi_ref = 0.5  # phase at f_ref\n",
    "m1 = 1e6\n",
    "m2 = 5e5\n",
    "M = m1 + m2\n",
    "q = m2 / m1  # m2 less than m1\n",
    "a1 = 0.2\n",
    "a2 = 0.4\n",
    "dist = 10.0 * PC_SI * 1e9  # in m\n",
    "inc = np.pi / 3.0\n",
    "beta = np.pi / 4.0  # ecliptic latitude\n",
    "lam = np.pi / 5.0  # ecliptic longitude\n",
    "psi = np.pi / 6.0  # polarization angle\n",
    "\n",
    "t_ref = YRSID_SI  # (in the SSB reference frame)\n",
    "\n",
    "mbh_injection_params = np.array(\n",
    "    [m1, m2, a1, a2, dist, phi_ref, f_ref, inc, lam, beta, psi, t_ref]\n",
    ")\n",
    "\n",
    "snr_val = bbh_snr_calc(*mbh_injection_params)"
   ]
  },
  {
   "cell_type": "code",
   "execution_count": 4,
   "metadata": {},
   "outputs": [
    {
     "data": {
      "text/plain": [
       "(1e-19, 5.748793819007112e-15)"
      ]
     },
     "execution_count": 4,
     "metadata": {},
     "output_type": "execute_result"
    },
    {
     "data": {
      "image/png": "[encoded data removed]",
      "text/plain": [
       "<Figure size 640x480 with 1 Axes>"
      ]
     },
     "metadata": {},
     "output_type": "display_data"
    }
   ],
   "source": [
    "plt.loglog(bbh_snr_calc.f_arr, np.abs(bbh_snr_calc.last_output[0]))\n",
    "plt.loglog(fn, (Sn / (4 * df)) ** (1/2))\n",
    "plt.ylim(1e-19,)"
   ]
  },
  {
   "cell_type": "markdown",
   "metadata": {},
   "source": [
    "### EMRIs"
   ]
  },
  {
   "cell_type": "code",
   "execution_count": 5,
   "metadata": {},
   "outputs": [],
   "source": [
    "M = 1e6\n",
    "mu = 1e1\n",
    "a = 0.2\n",
    "p0 = 12.0\n",
    "e0 = 0.2\n",
    "x0 = 0.1\n",
    "dist = 3.0\n",
    "phiS = 0.4423\n",
    "qS = 0.523023\n",
    "qK = 0.8923123\n",
    "phiK = 0.1221209312\n",
    "Phi_phi0 = 0.1231232\n",
    "Phi_theta0 = 4.234903824\n",
    "Phi_r0 = 3.230923\n",
    "\n",
    "emri_injection_params = np.array(\n",
    "    [M, mu, a, p0, e0, x0, dist, qS, phiS, qK, phiK, Phi_phi0, Phi_theta0, Phi_r0]\n",
    ")\n",
    "\n",
    "\n",
    "emri_snr_val = emri_snr_calc(*emri_injection_params)\n",
    "\n"
   ]
  },
  {
   "cell_type": "code",
   "execution_count": 6,
   "metadata": {},
   "outputs": [
    {
     "data": {
      "text/plain": [
       "[<matplotlib.lines.Line2D at 0x14885ae70>]"
      ]
     },
     "execution_count": 6,
     "metadata": {},
     "output_type": "execute_result"
    },
    {
     "data": {
      "image/png": "[encoded data removed]",
      "text/plain": [
       "<Figure size 640x480 with 1 Axes>"
      ]
     },
     "metadata": {},
     "output_type": "display_data"
    }
   ],
   "source": [
    "freqs = np.fft.rfftfreq(emri_snr_calc.last_output[0].shape[0], dt)\n",
    "plt.loglog(freqs, np.abs(np.fft.rfft(emri_snr_calc.last_output[0]) * dt))\n",
    "plt.loglog(fn, (Sn / (4 * df)) ** (1/2))"
   ]
  },
  {
   "cell_type": "markdown",
   "metadata": {},
   "source": [
    "### GBs"
   ]
  },
  {
   "cell_type": "code",
   "execution_count": 7,
   "metadata": {},
   "outputs": [
    {
     "name": "stdout",
     "output_type": "stream",
     "text": [
      "231.75477265092368\n"
     ]
    }
   ],
   "source": [
    "amp = 1e-22\n",
    "f0 = 4e-3\n",
    "fdot = 1e-18\n",
    "fddot = 0.0\n",
    "phi0 = 0.5\n",
    "inc = 0.2\n",
    "psi = 0.6\n",
    "lam = 0.9\n",
    "beta = -0.2\n",
    "    \n",
    "gb_injection_params = np.array([amp, f0, fdot, fddot, phi0, inc, psi, lam, beta])\n",
    "\n",
    "gb_snr_val = gb_snr_calc(*gb_injection_params)\n",
    "print(gb_snr_val)"
   ]
  },
  {
   "cell_type": "code",
   "execution_count": 8,
   "metadata": {},
   "outputs": [
    {
     "data": {
      "text/plain": [
       "(1e-06, 1.0)"
      ]
     },
     "execution_count": 8,
     "metadata": {},
     "output_type": "execute_result"
    },
    {
     "data": {
      "image/png": "[encoded data removed]",
      "text/plain": [
       "<Figure size 640x480 with 1 Axes>"
      ]
     },
     "metadata": {},
     "output_type": "display_data"
    }
   ],
   "source": [
    "plt.loglog(gb_snr_calc.f_arr, np.abs(gb_snr_calc.last_output[0]))\n",
    "plt.loglog(fn, (Sn / (4 * df)) ** (1/2))\n",
    "plt.ylim(1e-19,)\n",
    "plt.xlim(1e-6, 1e0)"
   ]
  },
  {
   "cell_type": "markdown",
   "metadata": {},
   "source": [
    "#### VGBS Specifically"
   ]
  },
  {
   "cell_type": "code",
   "execution_count": 9,
   "metadata": {},
   "outputs": [],
   "source": [
    "vgbs = pd.read_csv(\"vgbs.txt\")"
   ]
  },
  {
   "cell_type": "code",
   "execution_count": 10,
   "metadata": {},
   "outputs": [
    {
     "name": "stdout",
     "output_type": "stream",
     "text": [
      "b'HPLib' 28.31207526465955\n",
      "b'ZTFJ2320' 0.30401512401496444\n",
      "b'SDSSJ0923' 4.237257162958358\n",
      "b'AMCVn' 48.17104304371236\n",
      "b'CX1751' 3.323028772425761\n",
      "b'ZTFJ2029' 2.537650673595041\n",
      "b'SDSSJ0935' 29.740892139225974\n",
      "b'ZTFJ1539' 86.38881131278164\n",
      "b'SDSSJ2322' 14.055157402644529\n",
      "b'4U1820-30' 6.113253883762025\n",
      "b'HMCnc' 144.97593113653897\n",
      "b'CRBoo' 13.885189903611131\n",
      "b'PTFJ0533' 3.9685787572515605\n",
      "b'HD265435' 2.540320818971473\n",
      "b'CDm30' 3.897892418189185\n",
      "b'ZTFJ0640' 0.4364788142403734\n",
      "b'ZTFJ1749' 2.2585209615156034\n",
      "b'SMSSJ0338' 4.603350847598435\n",
      "b'SDSSJ1630' 3.4679432079526356\n",
      "b'ZTFJ2055' 0.5198095020170093\n",
      "b'ZTFJ1901' 1.6249264624793067\n",
      "b'ZTFJ1946' 0.7115330482874752\n",
      "b'ESCet' 74.40617214016939\n",
      "b'SDSSJ1337' 4.887716339936895\n",
      "b'ZTFJ2130' 1.6663709769592636\n",
      "b'V407Vul' 104.1951713492843\n",
      "b'ZTFJ2243' 76.08876548896808\n",
      "b'SDSSJ0634' 15.328333193122047\n",
      "b'ZTFJ0722' 4.997638686221978\n",
      "b'PTF1919' 2.3299253538557476\n",
      "b'V803Cen' 16.71019385796335\n",
      "b'SDSSJ1351' 9.82966034407025\n",
      "b'SDSSJ1235' 4.163517094559483\n",
      "b'ZTFJ0538' 30.91522301737791\n",
      "b'SDSSJ0651' 28.207001625512987\n",
      "b'SDSSJ1908' 11.270317984861574\n"
     ]
    },
    {
     "data": {
      "text/plain": [
       "(1e-06, 1.0)"
      ]
     },
     "execution_count": 10,
     "metadata": {},
     "output_type": "execute_result"
    },
    {
     "data": {
      "image/png": "[encoded data removed]",
      "text/plain": [
       "<Figure size 640x480 with 1 Axes>"
      ]
     },
     "metadata": {},
     "output_type": "display_data"
    }
   ],
   "source": [
    "for i in range(len(vgbs)):\n",
    "    vgb = vgbs.iloc[i]\n",
    "    params_in = np.array([\n",
    "        vgb[\"Amplitude\"],\n",
    "        vgb[\"Frequency\"],\n",
    "        vgb[\"FrequencyDerivative\"],\n",
    "        0.0,\n",
    "        vgb[\"InitialPhase\"],\n",
    "        vgb[\"Inclination\"],\n",
    "        vgb[\"Polarization\"],\n",
    "        vgb[\"EclipticLongitude\"],\n",
    "        vgb[\"EclipticLatitude\"]\n",
    "    ])\n",
    "\n",
    "    snr_here = gb_snr_calc(*params_in)\n",
    "    plt.loglog(gb_snr_calc.f_arr, np.abs(gb_snr_calc.last_output[0]))\n",
    "    print(vgb[\"Name\"], snr_here)\n",
    "\n",
    "plt.loglog(fn, (Sn / (4 * df)) ** (1/2))\n",
    "plt.ylim(1e-19,)\n",
    "plt.xlim(1e-6, 1e0)"
   ]
  }
 ],
 "metadata": {
  "kernelspec": {
   "display_name": "Python 3 (ipykernel)",
   "language": "python",
   "name": "python3"
  },
  "language_info": {
   "codemirror_mode": {
    "name": "ipython",
    "version": 3
   },
   "file_extension": ".py",
   "mimetype": "text/x-python",
   "name": "python",
   "nbconvert_exporter": "python",
   "pygments_lexer": "ipython3",
   "version": "3.12.1"
  }
 },
 "nbformat": 4,
 "nbformat_minor": 4
}
